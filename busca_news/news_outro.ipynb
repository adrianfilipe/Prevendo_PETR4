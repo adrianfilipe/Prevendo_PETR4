{
 "cells": [
  {
   "cell_type": "code",
   "execution_count": 10,
   "metadata": {},
   "outputs": [],
   "source": [
    "import requests\n",
    "from bs4 import BeautifulSoup\n",
    "import pandas as pd"
   ]
  },
  {
   "cell_type": "code",
   "execution_count": 6,
   "metadata": {},
   "outputs": [],
   "source": [
    "url = 'https://www.google.com.br/search?q=petrobras&sca_esv=88f3ba43b8b69cfe&biw=1912&bih=964&sxsrf=ADLYWIKzkQ4maSsyBHqsLD5IsLq8wZ_Nsw%3A1729616255323&source=lnt&tbs=sbd%3A1%2Ccdr%3A1%2Ccd_min%3A9%2F1%2F2024%2Ccd_max%3A10%2F1%2F2024&tbm=nws'"
   ]
  },
  {
   "cell_type": "code",
   "execution_count": 11,
   "metadata": {},
   "outputs": [],
   "source": [
    "search_term = \"petrobras\"  # Substitua pelo termo de busca desejado\n",
    "url = f\"https://news.google.com/search?q={search_term}\"\n",
    "\n",
    "# Enviar a requisição para o Google Notícias\n",
    "response = requests.get(url)\n",
    "\n",
    "# Verificar se a requisição foi bem sucedida\n",
    "if response.status_code == 200:\n",
    "    # Extrair o conteúdo HTML\n",
    "    soup = BeautifulSoup(response.content, \"html.parser\")\n",
    "else:\n",
    "    print(\"Erro ao acessar Google Notícias\")\n"
   ]
  },
  {
   "cell_type": "code",
   "execution_count": 14,
   "metadata": {},
   "outputs": [],
   "source": [
    "# Encontrar todas as notícias\n",
    "articles = soup.find_all('petrobras')\n",
    "\n",
    "desc_1 = []\n",
    "link_1 = []\n",
    "date_1 = []\n",
    "\n",
    "# Percorrer cada artigo para extrair as informações\n",
    "for article in articles:\n",
    "    # Encontrar o título e o link\n",
    "    title_tag = article.find('a', attrs={\"class\": \".WwrzSb\"})\n",
    "    if title_tag:\n",
    "        title = title_tag.text\n",
    "        link = \"https://news.google.com\" + title_tag['href'][1:]  # O link é relativo, então ajustamos aqui\n",
    "        desc_1.append(title)\n",
    "        link_1.append(link)\n",
    "\n",
    "    # Encontrar a data\n",
    "    date_tag = article.find('time')\n",
    "    if date_tag:\n",
    "        date = date_tag['datetime']  # Data no formato ISO\n",
    "        date_1.append(date)\n",
    "    else:\n",
    "        date_1.append(\"Data não encontrada\")\n",
    "\n",
    "# Mostrar as notícias encontradas\n",
    "for i in range(len(desc_1)):\n",
    "    print(f\"Título: {desc_1[i]}\")\n",
    "    print(f\"Link: {link_1[i]}\")\n",
    "    print(f\"Data: {date_1[i]}\")\n",
    "    print(\"-\" * 80)\n"
   ]
  },
  {
   "cell_type": "code",
   "execution_count": 15,
   "metadata": {},
   "outputs": [
    {
     "data": {
      "text/html": [
       "<div>\n",
       "<style scoped>\n",
       "    .dataframe tbody tr th:only-of-type {\n",
       "        vertical-align: middle;\n",
       "    }\n",
       "\n",
       "    .dataframe tbody tr th {\n",
       "        vertical-align: top;\n",
       "    }\n",
       "\n",
       "    .dataframe thead th {\n",
       "        text-align: right;\n",
       "    }\n",
       "</style>\n",
       "<table border=\"1\" class=\"dataframe\">\n",
       "  <thead>\n",
       "    <tr style=\"text-align: right;\">\n",
       "      <th></th>\n",
       "      <th>A</th>\n",
       "      <th>B</th>\n",
       "      <th>C</th>\n",
       "    </tr>\n",
       "  </thead>\n",
       "  <tbody>\n",
       "  </tbody>\n",
       "</table>\n",
       "</div>"
      ],
      "text/plain": [
       "Empty DataFrame\n",
       "Columns: [A, B, C]\n",
       "Index: []"
      ]
     },
     "execution_count": 15,
     "metadata": {},
     "output_type": "execute_result"
    }
   ],
   "source": [
    "column = ['A','B','C']\n",
    "df = pd.DataFrame(columns = column)\n",
    "df['A'] = desc_1\n",
    "df['B'] = link_1\n",
    "df['C'] = date_1\n",
    "df"
   ]
  }
 ],
 "metadata": {
  "kernelspec": {
   "display_name": "Python 3",
   "language": "python",
   "name": "python3"
  },
  "language_info": {
   "codemirror_mode": {
    "name": "ipython",
    "version": 3
   },
   "file_extension": ".py",
   "mimetype": "text/x-python",
   "name": "python",
   "nbconvert_exporter": "python",
   "pygments_lexer": "ipython3",
   "version": "3.12.3"
  }
 },
 "nbformat": 4,
 "nbformat_minor": 2
}
